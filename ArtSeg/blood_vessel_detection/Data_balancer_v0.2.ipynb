{
 "cells": [
  {
   "cell_type": "code",
   "execution_count": 1,
   "metadata": {},
   "outputs": [
    {
     "name": "stdout",
     "output_type": "stream",
     "text": [
      "\r",
      "[ 2023-11-20 22:02:30 ] CUDA_VISIBLE_DEVICES automatically set to: 3           \n"
     ]
    }
   ],
   "source": [
    "from jarvis.utils.general import gpus\n",
    "gpus.autoselect()\n",
    "\n",
    "import glob, numpy as np, pandas as pd, tensorflow as tf, matplotlib.pyplot as plt, skimage.io, os, gc\n",
    "from tensorflow.keras import Input, Model, models, layers, optimizers, losses, callbacks, utils\n",
    "from pathlib import Path\n",
    "from jarvis.utils.display import imshow\n",
    "from PIL import Image\n",
    "from skimage.transform import rescale, resize\n",
    "from histomicstk.preprocessing.augmentation import rgb_perturb_stain_concentration\n",
    "from IPython.display import HTML, Javascript, display\n",
    "\n",
    "Image.MAX_IMAGE_PIXELS = None\n",
    "\n",
    "import sys  \n",
    "sys.path.append('/home/jjlou/Jerry/jerry_packages')\n",
    "from jerry_utils import restart_kernel, load_dataset, save_dataset"
   ]
  },
  {
   "cell_type": "code",
   "execution_count": 2,
   "metadata": {},
   "outputs": [],
   "source": [
    "root = '/home/jjlou/Jerry/wsi-arterio/vessel_detection_and_rough_segmentation/data_test'"
   ]
  },
  {
   "cell_type": "code",
   "execution_count": 3,
   "metadata": {},
   "outputs": [],
   "source": [
    "def divide(dataset=None):\n",
    "    neg_dats = []\n",
    "    neg_masks = []\n",
    "    pos_dats = []\n",
    "    pos_masks = []\n",
    "    for d, m in dataset:\n",
    "        if tf.equal(tf.math.reduce_sum(m), 0):\n",
    "            neg_dats.append(d)\n",
    "            neg_masks.append(m)\n",
    "        else:\n",
    "            pos_dats.append(d)\n",
    "            pos_masks.append(m) \n",
    "    \n",
    "    pos = tf.data.Dataset.from_tensor_slices((pos_dats, pos_masks))\n",
    "    neg = tf.data.Dataset.from_tensor_slices((neg_dats, neg_masks))\n",
    "    \n",
    "    return pos, neg"
   ]
  },
  {
   "cell_type": "code",
   "execution_count": 4,
   "metadata": {},
   "outputs": [],
   "source": [
    "def process_data(load=None, save_path=None):\n",
    "    for s in load:\n",
    "        ID = s.split('/')[-2]\n",
    "        shard_num = s.split('/')[-1]\n",
    "        save_file = f'{save_path}/{ID}/{shard_num}'\n",
    "        if not glob.glob(f'{save_file}/*/*/*.snapshot'):\n",
    "            assert not glob.glob(f'{save_file}/*/*.shard'), f'{save_file} did not save'\n",
    "            shard = tf.data.Dataset.load(s)\n",
    "            pos, neg = divide(shard)\n",
    "            if len(pos) > 0 and len(neg) > 0:\n",
    "                pos = pos.repeat(5)\n",
    "                shard = pos.concatenate(neg)\n",
    "            elif len(pos) == 0:\n",
    "                shard = neg\n",
    "            else:\n",
    "                pos = pos.repeat(5)\n",
    "                shard = pos\n",
    "            shard = shard.shuffle(len(shard))\n",
    "            shard.save(save_file)\n",
    "            restart_kernel()\n",
    "            time.sleep(10)"
   ]
  },
  {
   "cell_type": "code",
   "execution_count": 5,
   "metadata": {},
   "outputs": [],
   "source": [
    "train_load = sorted(glob.glob(f'{root}/train_filtered/*/*'))\n",
    "train_save = f'{root}/train_balanced'\n",
    "\n",
    "process_data(load=train_load, save_path=train_save)"
   ]
  },
  {
   "cell_type": "code",
   "execution_count": 6,
   "metadata": {},
   "outputs": [],
   "source": [
    "external_load = sorted(glob.glob(f'{root}/external_filtered/*/*'))\n",
    "external_save = f'{root}/external_balanced'\n",
    "\n",
    "process_data(load=external_load, save_path=external_save)"
   ]
  },
  {
   "cell_type": "code",
   "execution_count": 7,
   "metadata": {},
   "outputs": [],
   "source": [
    "hold_out_load = sorted(glob.glob(f'{root}/hold_out_filtered/*/*'))\n",
    "hold_out_save = f'{root}/hold_out_balanced'\n",
    "\n",
    "process_data(load=hold_out_load, save_path=hold_out_save)"
   ]
  },
  {
   "cell_type": "code",
   "execution_count": null,
   "metadata": {},
   "outputs": [],
   "source": []
  }
 ],
 "metadata": {
  "kernelspec": {
   "display_name": "Python 3",
   "language": "python",
   "name": "python3"
  },
  "language_info": {
   "codemirror_mode": {
    "name": "ipython",
    "version": 3
   },
   "file_extension": ".py",
   "mimetype": "text/x-python",
   "name": "python",
   "nbconvert_exporter": "python",
   "pygments_lexer": "ipython3",
   "version": "3.8.5"
  }
 },
 "nbformat": 4,
 "nbformat_minor": 4
}
