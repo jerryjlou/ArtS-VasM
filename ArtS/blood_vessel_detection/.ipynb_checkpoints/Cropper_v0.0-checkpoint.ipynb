{
 "cells": [
  {
   "cell_type": "code",
   "execution_count": 1,
   "metadata": {},
   "outputs": [
    {
     "name": "stdout",
     "output_type": "stream",
     "text": [
      "\r",
      "[ 2024-01-26 10:52:22 ] CUDA_VISIBLE_DEVICES automatically set to: 1           \n"
     ]
    }
   ],
   "source": [
    "from jarvis.utils.general import gpus\n",
    "gpus.autoselect()\n",
    "\n",
    "import glob, numpy as np, pandas as pd, tensorflow as tf, time, random\n",
    "from tensorflow.keras import Input, Model, layers, optimizers, losses, callbacks, utils\n",
    "from IPython.display import clear_output, HTML, Javascript, display\n",
    "\n",
    "import sys  \n",
    "sys.path.append('/home/jjlou/Jerry/jerry_packages')\n",
    "from jerry_utils import restart_kernel, load_dataset_v1, load_dataset\n",
    "import jerry_losses, jerry_metrics "
   ]
  },
  {
   "cell_type": "code",
   "execution_count": 2,
   "metadata": {},
   "outputs": [],
   "source": [
    "root = '/home/jjlou/Jerry/wsi-arterio/vessel_detection_and_rough_segmentation/data_test'\n",
    "#color = glob.glob(f'{root}/train_Color.Basic.Aug_x5_sharded/*/*/*')\n",
    "#gray = glob.glob(f'{root}/train_Gray.Basic.Aug_sharded/*/*')\n",
    "external_path = sorted(glob.glob(f'{root}/external_processed/*/*'))\n",
    "hold_path = glob.glob(f'{root}/hold_out_processed/*/*')"
   ]
  },
  {
   "cell_type": "code",
   "execution_count": 3,
   "metadata": {},
   "outputs": [],
   "source": [
    "#tf.numpy_function creates output with unknown shape.. so need to reshape it\n",
    "def reshape(image, mask):\n",
    "    image = tf.reshape(image, [512,512,3])\n",
    "    mask = tf.reshape(mask, [512,512])\n",
    "    return tf.cast(image, 'uint8'), tf.cast(mask, 'uint8')"
   ]
  },
  {
   "cell_type": "code",
   "execution_count": 4,
   "metadata": {},
   "outputs": [],
   "source": [
    "# random flip via tensorflow layers\n",
    "def aug(images, mask):\n",
    "    \n",
    "    images = tf.cast(images, 'uint8')\n",
    "    mask = tf.cast(mask, 'uint8') \n",
    "    images = tf.reshape(images, [784, 784, 3])\n",
    "    mask = tf.reshape(mask, [784, 784, 1])\n",
    "    \n",
    "    mask = tf.stack([mask, mask, mask], -1)\n",
    "    mask = tf.reshape(mask, [784, 784, 3])\n",
    "    \n",
    "    images_mask = tf.concat([images, mask], -1)  \n",
    "    images_mask = layers.RandomCrop(512, 512)(images_mask)  \n",
    "    \n",
    "    image = images_mask[:,:,:3]\n",
    "    mask = images_mask[:,:,3]\n",
    "    mask = tf.expand_dims(mask,axis=2)\n",
    "    \n",
    "    return tf.cast(image, 'uint8'), tf.cast(mask, 'uint8') "
   ]
  },
  {
   "cell_type": "code",
   "execution_count": 5,
   "metadata": {},
   "outputs": [],
   "source": [
    "def crop(dataset):\n",
    "    dataset = (\n",
    "    dataset.map(lambda i,m: aug(i,m), num_parallel_calls=tf.data.AUTOTUNE)\n",
    "    .map(lambda i,m: reshape(i,m), num_parallel_calls=tf.data.AUTOTUNE)\n",
    "    .batch(1)\n",
    ")"
   ]
  },
  {
   "cell_type": "code",
   "execution_count": 6,
   "metadata": {},
   "outputs": [],
   "source": [
    "def process(filelist, folder):\n",
    "    for f in filelist:\n",
    "        shard_name = f.split('/')[-1]\n",
    "        filename = f.split('/')[-2]\n",
    "        shard_save = f'{root}/{folder}/{filename}/{shard_name}'\n",
    "        if not glob.glob(f'{shard_save}/*/*/*.snapshot'):\n",
    "            shard = tf.data.Dataset.load(f)\n",
    "            shard = (\n",
    "                shard.map(lambda i,m: aug(i,m), num_parallel_calls=tf.data.AUTOTUNE)\n",
    "                .map(lambda i,m: reshape(i,m), num_parallel_calls=tf.data.AUTOTUNE)\n",
    "                .batch(1)\n",
    "            )\n",
    "            shard.save(shard_save)\n",
    "        else:\n",
    "            continue"
   ]
  },
  {
   "cell_type": "code",
   "execution_count": 7,
   "metadata": {},
   "outputs": [],
   "source": [
    "shard_name = external_path[-1].split('/')[-1]\n",
    "filename = external_path[-1].split('/')[-2]\n",
    "if not glob.glob((f'{root}/external_cropped/{filename}/{shard_name}/*/*/*.snapshot')):\n",
    "    process(external_path, 'external_cropped')\n",
    "    restart_kernel()\n",
    "    time.sleep(5)"
   ]
  },
  {
   "cell_type": "code",
   "execution_count": 8,
   "metadata": {},
   "outputs": [],
   "source": [
    "process(hold_path, 'hold_cropped')"
   ]
  }
 ],
 "metadata": {
  "kernelspec": {
   "display_name": "Python 3",
   "language": "python",
   "name": "python3"
  },
  "language_info": {
   "codemirror_mode": {
    "name": "ipython",
    "version": 3
   },
   "file_extension": ".py",
   "mimetype": "text/x-python",
   "name": "python",
   "nbconvert_exporter": "python",
   "pygments_lexer": "ipython3",
   "version": "3.8.5"
  }
 },
 "nbformat": 4,
 "nbformat_minor": 4
}
