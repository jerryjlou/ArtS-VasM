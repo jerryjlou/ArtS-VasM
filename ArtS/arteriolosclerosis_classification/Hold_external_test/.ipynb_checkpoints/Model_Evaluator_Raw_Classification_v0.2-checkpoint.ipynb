{
 "cells": [
  {
   "cell_type": "code",
   "execution_count": 1,
   "metadata": {},
   "outputs": [
    {
     "name": "stdout",
     "output_type": "stream",
     "text": [
      "\r",
      "[ 2024-02-27 12:11:06 ] CUDA_VISIBLE_DEVICES automatically set to: 2           \n"
     ]
    }
   ],
   "source": [
    "from jarvis.utils.general import gpus\n",
    "gpus.autoselect()\n",
    "\n",
    "import glob, numpy as np, pandas as pd, tensorflow as tf, os, time\n",
    "from pathlib import Path\n",
    "from IPython.display import clear_output, HTML, Javascript, display\n",
    "from sklearn.metrics import confusion_matrix, recall_score, precision_score, f1_score, accuracy_score, roc_auc_score, average_precision_score\n",
    "from scipy.special import softmax\n",
    "\n",
    "import sys  \n",
    "sys.path.append('/home/jjlou/Jerry/jerry_packages')\n",
    "from jerry_utils import restart_kernel, load_dataset, load_dataset_v1\n",
    "import jerry_losses, jerry_metrics "
   ]
  },
  {
   "cell_type": "code",
   "execution_count": 2,
   "metadata": {},
   "outputs": [],
   "source": [
    "name = 'Unfrozen_EfficientNetV2L_v0.64'\n",
    "root = '/home/jjlou/Jerry/wsi-arterio/arteriosclerotic_vessel_detection_and_fine_segmentation/Arteriolosclerosis_classification/data_test'"
   ]
  },
  {
   "cell_type": "code",
   "execution_count": 3,
   "metadata": {},
   "outputs": [],
   "source": [
    "model_path = f'{root}/models_raw/{name}.hdf5'\n",
    "hold_path = glob.glob(f'{root}/hold_processed_sharded/*/*')\n",
    "external_path = glob.glob(f'{root}/external_processed_sharded/*/*')\n",
    "save_path = f'{root}/models_raw/{name}'"
   ]
  },
  {
   "cell_type": "code",
   "execution_count": 4,
   "metadata": {},
   "outputs": [],
   "source": [
    "hold = load_dataset_v1(hold_path) \n",
    "external = load_dataset_v1(external_path) \n",
    "\n",
    "model = tf.keras.models.load_model(model_path)\n",
    "    \n",
    "if not os.path.exists(f'{save_path}_external.npz'): \n",
    "    true_list = []\n",
    "    pred_list = []\n",
    "    confidence_list = []\n",
    "    for x, y in external:\n",
    "        logits = model.predict(x) \n",
    "        m = np.argmax(logits, axis=-1)\n",
    "        pred = tf.cast(np.squeeze(m), tf.uint8)\n",
    "        confidence = softmax(logits)[0][1]\n",
    "        true = tf.squeeze(y)\n",
    "        pred_list.append(pred)\n",
    "        true_list.append(true)\n",
    "        confidence_list.append(confidence)\n",
    "    pred_np = np.stack(pred_list)\n",
    "    true_np = np.stack(true_list)\n",
    "    confidence_np = np.stack(confidence_list)\n",
    "    np.savez(f'{save_path}_external.npz', pred=pred_np, true=true_np, confidence=confidence_np)   \n",
    "    restart_kernel()\n",
    "    time.sleep(10)\n",
    "\n",
    "if not os.path.exists(f'{save_path}_hold.npz'): \n",
    "    true_list = []\n",
    "    pred_list = []\n",
    "    confidence_list = []\n",
    "    for x, y in hold:\n",
    "        logits = model.predict(x) \n",
    "        m = np.argmax(logits, axis=-1)\n",
    "        pred = tf.cast(np.squeeze(m), tf.uint8)\n",
    "        confidence = softmax(logits)[0][1]\n",
    "        true = tf.squeeze(y)\n",
    "        pred_list.append(pred)\n",
    "        true_list.append(true)\n",
    "        confidence_list.append(confidence)\n",
    "    pred_np = np.stack(pred_list)\n",
    "    true_np = np.stack(true_list)\n",
    "    confidence_np = np.stack(confidence_list)\n",
    "    np.savez(f'{save_path}_hold.npz', pred=pred_np, true=true_np, confidence=confidence_np)   \n",
    "    restart_kernel()\n",
    "    time.sleep(10)"
   ]
  }
 ],
 "metadata": {
  "kernelspec": {
   "display_name": "Python 3",
   "language": "python",
   "name": "python3"
  },
  "language_info": {
   "codemirror_mode": {
    "name": "ipython",
    "version": 3
   },
   "file_extension": ".py",
   "mimetype": "text/x-python",
   "name": "python",
   "nbconvert_exporter": "python",
   "pygments_lexer": "ipython3",
   "version": "3.8.5"
  }
 },
 "nbformat": 4,
 "nbformat_minor": 4
}
