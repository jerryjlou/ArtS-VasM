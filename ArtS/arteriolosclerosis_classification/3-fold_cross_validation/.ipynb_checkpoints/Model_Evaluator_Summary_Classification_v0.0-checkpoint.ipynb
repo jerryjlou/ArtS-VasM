{
 "cells": [
  {
   "cell_type": "markdown",
   "metadata": {},
   "source": [
    "CHANGELOG\n",
    "\n",
    "v0.0 11/9/2023\n",
    "- initialize a dataframe for all the metrics\n",
    "For each K:\n",
    "    - load train npz and unravel true and pred\n",
    "    - use true and pred to calculate all the metrics\n",
    "    - save the metrics into central dataframe\n",
    "    - do the same for valid"
   ]
  },
  {
   "cell_type": "code",
   "execution_count": 1,
   "metadata": {},
   "outputs": [
    {
     "name": "stdout",
     "output_type": "stream",
     "text": [
      "\r",
      "[ 2023-11-25 06:22:45 ] CUDA_VISIBLE_DEVICES automatically set to: 2           \n"
     ]
    }
   ],
   "source": [
    "from jarvis.utils.general import gpus\n",
    "gpus.autoselect()\n",
    "\n",
    "import numpy as np, pandas as pd, tensorflow as tf, os, time\n",
    "from pathlib import Path\n",
    "from IPython.display import clear_output, HTML, Javascript, display\n",
    "from sklearn.metrics import confusion_matrix, recall_score, precision_score, f1_score, accuracy_score, roc_auc_score, average_precision_score\n",
    "\n",
    "import sys  \n",
    "sys.path.append('/home/jjlou/Jerry/jerry_packages')\n",
    "from jerry_utils import restart_kernel, load_dataset, save_dataset\n",
    "import jerry_losses, jerry_metrics "
   ]
  },
  {
   "cell_type": "code",
   "execution_count": 2,
   "metadata": {},
   "outputs": [],
   "source": [
    "name = 'Unfrozen_EfficientNetV2L_v0.0'\n",
    "root = '/home/jjlou/Jerry/wsi-arterio/arteriosclerotic_vessel_detection_and_fine_segmentation/Arteriolosclerosis_classification/data'"
   ]
  },
  {
   "cell_type": "code",
   "execution_count": 3,
   "metadata": {},
   "outputs": [],
   "source": [
    "Valid0 = ['D-436','D-870', 'D-343']\n",
    "Valid1 = ['D-297', 'D-916', 'UCI-15-12']\n",
    "Valid2 = ['D-322', 'D-562']\n",
    "\n",
    "Valid = [Valid0, Valid1, Valid2]"
   ]
  },
  {
   "cell_type": "code",
   "execution_count": 4,
   "metadata": {},
   "outputs": [],
   "source": [
    "df_model = pd.DataFrame(index=range(len(Valid)))\n",
    "\n",
    "df_model['Train confusion matrix'] = ''\n",
    "df_model['Train false pos rate'] = ''\n",
    "df_model['Train false neg rate'] = ''          \n",
    "df_model['Train specificity'] = ''\n",
    "df_model['Train recall'] = ''\n",
    "df_model['Train precision'] = ''\n",
    "df_model['Train accuracy'] = ''\n",
    "df_model['Train F1'] = ''\n",
    "df_model['Train ROC AUC'] = ''\n",
    "df_model['Train PR AUC'] = ''\n",
    "\n",
    "df_model['Valid confusion matrix'] = ''\n",
    "df_model['Valid false pos rate'] = ''\n",
    "df_model['Valid false neg rate'] = ''          \n",
    "df_model['Valid specificity'] = ''\n",
    "df_model['Valid recall'] = ''\n",
    "df_model['Valid precision'] = ''\n",
    "df_model['Valid accuracy'] = ''\n",
    "df_model['Valid F1'] = ''\n",
    "df_model['Valid ROC AUC'] = ''\n",
    "df_model['Valid PR AUC'] = ''"
   ]
  },
  {
   "cell_type": "code",
   "execution_count": 5,
   "metadata": {},
   "outputs": [],
   "source": [
    "for v in Valid:\n",
    "    v_path = f\"{root}/K{Valid.index(v)}\"\n",
    "    model_path = f'{v_path}/models/{name}_Color.BasicMorph.Aug_K{Valid.index(v)}.hdf5'\n",
    "    load_path = f'{v_path}/models/{name}_Color.BasicMorph.Aug_K{Valid.index(v)}'\n",
    "    \n",
    "    i = Valid.index(v)\n",
    "    \n",
    "    train = np.load(f'{load_path}_train.npz')\n",
    "    pred = train['pred']\n",
    "    true = train['true']\n",
    "    \n",
    "    #train\n",
    "    tn, fp, fn, tp = confusion_matrix(true, pred).ravel()\n",
    "    df_model['Train confusion matrix'][i] = confusion_matrix(true, pred)\n",
    "    df_model['Train false pos rate'][i] = fp / (fp + tn)\n",
    "    df_model['Train false neg rate'][i] = fn / (tp + fn)           \n",
    "    df_model['Train specificity'][i] = tn / (tn + fp)\n",
    "    df_model['Train recall'][i] = recall_score(true, pred)\n",
    "    df_model['Train precision'][i] = precision_score(true, pred)\n",
    "    df_model['Train accuracy'][i] = accuracy_score(true, pred)\n",
    "    df_model['Train F1'][i] = f1_score(true, pred)\n",
    "    df_model['Train ROC AUC'][i] = roc_auc_score(true, pred)\n",
    "    df_model['Train PR AUC'][i] = average_precision_score(true, pred)\n",
    "    \n",
    "    valid = np.load(f'{load_path}_valid.npz')\n",
    "    pred = valid['pred']\n",
    "    true = valid['true']\n",
    "    \n",
    "    #valid\n",
    "    tn, fp, fn, tp = confusion_matrix(true, pred).ravel()\n",
    "    df_model['Valid confusion matrix'][i] = confusion_matrix(true, pred)\n",
    "    df_model['Valid false pos rate'][i] = fp / (fp + tn)\n",
    "    df_model['Valid false neg rate'][i] = fn / (tp + fn)           \n",
    "    df_model['Valid specificity'][i] = tn / (tn + fp)\n",
    "    df_model['Valid recall'][i] = recall_score(true, pred)\n",
    "    df_model['Valid precision'][i] = precision_score(true, pred)\n",
    "    df_model['Valid accuracy'][i] = accuracy_score(true, pred)\n",
    "    df_model['Valid F1'][i] = f1_score(true, pred)\n",
    "    df_model['Valid ROC AUC'][i] = roc_auc_score(true, pred)\n",
    "    df_model['Valid PR AUC'][i] = average_precision_score(true, pred)"
   ]
  },
  {
   "cell_type": "code",
   "execution_count": 6,
   "metadata": {},
   "outputs": [],
   "source": [
    "# load model\n",
    "model = tf.keras.models.load_model(model_path)\n",
    "\n",
    "df_model['Trainable Params'] = np.sum([np.prod(v.get_shape()) for v in model.trainable_weights])\n",
    "\n",
    "save_path = f'{root}/models_results'\n",
    "df_model.to_csv(f'{save_path}/{name}_Color.BasicMorph.Aug.csv')"
   ]
  },
  {
   "cell_type": "code",
   "execution_count": null,
   "metadata": {},
   "outputs": [],
   "source": []
  }
 ],
 "metadata": {
  "kernelspec": {
   "display_name": "Python 3",
   "language": "python",
   "name": "python3"
  },
  "language_info": {
   "codemirror_mode": {
    "name": "ipython",
    "version": 3
   },
   "file_extension": ".py",
   "mimetype": "text/x-python",
   "name": "python",
   "nbconvert_exporter": "python",
   "pygments_lexer": "ipython3",
   "version": "3.8.5"
  }
 },
 "nbformat": 4,
 "nbformat_minor": 4
}
